{
 "cells": [
  {
   "cell_type": "markdown",
   "metadata": {},
   "source": [
    "1 Write a Python Program(with class concepts) to find the area of the triangle using the below\n",
    "formula.\n",
    "area = (s*(s-a)*(s-b)*(s-c)) ** 0.5\n",
    "Function to take the length of the sides of triangle from user should be defined in the parent\n",
    "class and function to calculate the area should be defined in subclass."
   ]
  },
  {
   "cell_type": "code",
   "execution_count": 11,
   "metadata": {},
   "outputs": [],
   "source": [
    "class Triangle:\n",
    "    def __init__(self, side1, side2, side3):\n",
    "      self.side1 = side1\n",
    "      self.side2 = side2\n",
    "      self.side3 = side3\n",
    "      print (\"Initialize the Triangle super class is [\" +  str(side1) + \",\" + str(side2) + \",\" + str(side3) + \"]\")\n"
   ]
  },
  {
   "cell_type": "code",
   "execution_count": 12,
   "metadata": {},
   "outputs": [
    {
     "name": "stdout",
     "output_type": "stream",
     "text": [
      "Initialize Triangle Utilities Child class\n",
      "Initialize the Triangle super class is [3,4,5]\n",
      "6.0\n",
      "Area of the triangle is 6.0\n"
     ]
    }
   ],
   "source": [
    "class Triangle_Utilities(Triangle):\n",
    "    def __init__(self, side1, side2, side3):\n",
    "       print (\"Initialize Triangle Utilities Child class\" )\n",
    "       super(Triangle_Utilities, self).__init__(side1, side2, side3)\n",
    "\n",
    "    def get_area(self):\n",
    "      s = (self.side1 + self.side2 + self.side3)/2\n",
    "      print (str(s))\n",
    "      return (s*(s-self.side1)*(s-self.side2)*(s-self.side3))**0.5\n",
    "\n",
    "instance = Triangle_Utilities(3,4,5)\n",
    "\n",
    "print (\"Area of the triangle is \" + str(instance.get_area()) )"
   ]
  },
  {
   "cell_type": "markdown",
   "metadata": {},
   "source": [
    "2 Write a function filter_long_words() that takes a list of words and an integer n and returns the list of words that are longer than n."
   ]
  },
  {
   "cell_type": "code",
   "execution_count": 13,
   "metadata": {},
   "outputs": [
    {
     "name": "stdout",
     "output_type": "stream",
     "text": [
      "Initialize list_Utilities\n",
      "List of Words of Length greater than 2: ['Investment', 'science,', 'not', 'art']\n",
      "List of Words of length greater than 3: ['Investment', 'science,']\n"
     ]
    }
   ],
   "source": [
    "class list_Utilities:\n",
    "    def __init__(self, wordlist):\n",
    "      self.wordlist = wordlist\n",
    "      print (\"Initialize list_Utilities\")\n",
    "    \n",
    "    def filter_long_words(self, n):\n",
    "      return list(filter(lambda x:len(x) > n, self.wordlist))\n",
    "\n",
    "instance = list_Utilities(['Investment', 'is', 'a', 'science,', 'not', 'an', 'art'])\n",
    "\n",
    "print (\"List of Words of Length greater than 2: \" + str(instance.filter_long_words(2)) ) \n",
    "print (\"List of Words of length greater than 3: \" + str(instance.filter_long_words(3)) ) "
   ]
  },
  {
   "cell_type": "markdown",
   "metadata": {},
   "source": [
    "3 Write a Python program using function concept that maps list of words into a list of integers representing the lengths of the corresponding words."
   ]
  },
  {
   "cell_type": "code",
   "execution_count": 14,
   "metadata": {},
   "outputs": [
    {
     "name": "stdout",
     "output_type": "stream",
     "text": [
      "words list : ['Investment', 'is', 'a', 'science,', 'not', 'an', 'art']\n",
      "length of words :[10, 2, 1, 8, 3, 2, 3]\n"
     ]
    }
   ],
   "source": [
    "wordlist = ['Investment', 'is', 'a', 'science,', 'not', 'an', 'art']\n",
    "def wordlength(wordlist):\n",
    "  return list(map(lambda x: len(x), wordlist))\n",
    "\n",
    "print (\"words list : \" + str(wordlist))    \n",
    "print (\"length of words :\" + str(wordlength(wordlist)))"
   ]
  },
  {
   "cell_type": "markdown",
   "metadata": {},
   "source": [
    "4 Write a Python function which takes a character (i.e. a string of length 1) and returns True if it is a vowel, False otherwise."
   ]
  },
  {
   "cell_type": "code",
   "execution_count": 15,
   "metadata": {},
   "outputs": [
    {
     "name": "stdout",
     "output_type": "stream",
     "text": [
      "Enter the character: x\n",
      "x is not a vowel.\n"
     ]
    }
   ],
   "source": [
    "def vowel_check(char):\n",
    "  if(char == 'a' or char == 'e' or char == 'i' or char == 'o' or char == 'u'):\n",
    "    return True\n",
    "  else:\n",
    "    return False\n",
    "\n",
    "# Take user input\n",
    "char = input(\"Enter the character: \");\n",
    "\n",
    "# If Invalid input, exit\n",
    "if (char.isalpha() == False):\n",
    " exit();\n",
    "\n",
    "# Invoke function\n",
    "if (vowel_check(char)):\n",
    "  print(char, \"is a vowel.\");\n",
    "else:\n",
    " print(char, \"is not a vowel.\"); \n",
    "\n"
   ]
  },
  {
   "cell_type": "code",
   "execution_count": null,
   "metadata": {},
   "outputs": [],
   "source": []
  }
 ],
 "metadata": {
  "kernelspec": {
   "display_name": "Python 3",
   "language": "python",
   "name": "python3"
  },
  "language_info": {
   "codemirror_mode": {
    "name": "ipython",
    "version": 3
   },
   "file_extension": ".py",
   "mimetype": "text/x-python",
   "name": "python",
   "nbconvert_exporter": "python",
   "pygments_lexer": "ipython3",
   "version": "3.6.4"
  }
 },
 "nbformat": 4,
 "nbformat_minor": 2
}
